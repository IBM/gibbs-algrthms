{
 "cells": [
  {
   "cell_type": "markdown",
   "metadata": {},
   "source": [
    "# Supplemental Code for <br />  \"Algorithms for Gibbs states preparation <br />  on noiseless and noisy random quantum circuits\"\n",
    "\n",
    "### Oles Shtanko<sup>1*</sup> and Ramis Movassagh<sup>2</sup>\n",
    "<sup>1</sup>IBM Quantum, IBM Research-Almaden, San Jose CA, 95120 US\\\n",
    "<sup>2</sup>IBM Quantum, MIT-IBM Watson AI Lab, Cambridge MA, 02139 US\n",
    "\n",
    "<sup>*</sup> oles.shtanko@ibm.com\n",
    "\n",
    "\n",
    "## Table of Contents:\n",
    "\n",
    "* [Dependencies](#dep)\n",
    "\n",
    "* [Section 1: Simulations](#part1)\n",
    "    * [Algorithm 1](#part1.1)\n",
    "         * [Setup](#a1_setup)\n",
    "         * [Average density matrices (noiseless circuit)](#a1_avrg_noiseless)\n",
    "         * [Average density matrices (noisy circuit)](#a1_avrg_noisy)\n",
    "         * [Optimized density matrices (noisy circuit)](#a1_optm)\n",
    "         * [Generating plots](#a1_plots)\n",
    "    * [Algorithm 2](#part1.2)\n",
    "         * [Setup](#a2_setup)\n",
    "         * [Average density matrices (noiseless circuit)](#a2_avrg_noiseless)\n",
    "         * [Average density matrices (noisy circuit)](#a2_avrg_noisy)\n",
    "         * [Optimized density matrices (noisy circuit)](#a2_optm)\n",
    "         * [Generating plots](#a2_plots)\n",
    "    \n",
    "* [Section 2: Experiment on IBMQ hardware](#part2)\n",
    "    * [Setting account](#part2.1)\n",
    "    * [Algorithm 1](#part2.2)\n",
    "         * [Setup](#qa1_setup)\n",
    "         * [Running experiment](#qa1_running_exp)\n",
    "         * [Generating plots](#qa1_plot)\n",
    "    * [Algorithm 1](#part2.3)\n",
    "         * [Setup](#qa2_setup)\n",
    "         * [Running experiment](#qa2_running_exp)\n",
    "         * [Generating plots](#qa2_plot)\n",
    "    \n",
    "---\n",
    "\n",
    "\n",
    "## Dependencies  <a class=\"anchor\" id=\"dep\"></a>\n",
    "\n",
    "### Original libraries\n",
    "\n",
    "[Numpy](https://numpy.org/) 1.21.2\\\n",
    "[Scipy](https://scipy.org/) 3.4.3\\\n",
    "[Matplotlib](https://matplotlib.org/) 1.7.1\\\n",
    "[Qiskit](https://qiskit.org/) 0.29.0\n",
    "\n",
    "More about Qiskit: https://www.ibm.com/quantum-computing/ \\"
   ]
  },
  {
   "cell_type": "code",
   "execution_count": 6,
   "metadata": {},
   "outputs": [
    {
     "name": "stdout",
     "output_type": "stream",
     "text": [
      "Your NumPy v 1.21.2\n",
      "Your Matplotlib v 3.4.3\n",
      "Your SciPy v 1.7.1\n",
      "Your Qiskit v 0.29.0\n"
     ]
    }
   ],
   "source": [
    "import numpy\n",
    "import scipy\n",
    "import qiskit\n",
    "import matplotlib\n",
    "\n",
    "print('Your NumPy v',numpy.__version__)\n",
    "print('Your Matplotlib v',matplotlib.__version__)\n",
    "print('Your SciPy v',scipy.__version__)\n",
    "print('Your Qiskit v',qiskit.__qiskit_version__['qiskit'])"
   ]
  },
  {
   "cell_type": "markdown",
   "metadata": {},
   "source": [
    "____\n",
    "\n",
    "## Section 1: Simulations <a class=\"anchor\" id=\"part1\"></a>\n",
    "\n",
    "\n",
    "Here we study 1D Heisenberg Hamiltonian\n",
    "\n",
    "$H = J\\sum_{i=1}^{N-1}(X_iX_{i+1}+Y_iY_{i+1}+Z_iZ_{i+1})+\\mu\\sum_{i=1}^NZ_i$\n",
    "\n",
    "where $X_i$ and $Z_i$ are Pauli matrices acting on corresponding qubits. We divide it using local terms $\\{JX_1X_2,\\mu_1Z_1,\\mu_2Z_2,h_1X_1,h_2X_2\\}$. \n",
    "\n",
    "____\n",
    "\n",
    "\n",
    "### Algorithm 1  <a class=\"anchor\" id=\"part1.1\"></a>\n",
    "\n",
    "\n",
    "**Class:** `algrthm_1`\n",
    "\n",
    "Parameters:\n",
    "\n",
    "* `terms` list of one-qubit terms (2x2 matrices) and two-qubit terms (4x4 matrices). Matrices must be Hermitian.\n",
    "* `qubits` list of indices for qubits subject to every term in `terms` (tuple)\n",
    "* `ancilla` list of indices for ancilla qubits used to implement every term in `terms` (int)\n",
    "* `beta_values` inverse temperature values\n",
    "* `depth` the effective circuit depth\n",
    "* `p2` error for two-qubit gate\n",
    "* `p3` error for three-qubit gate\n",
    "\n",
    "Methods:\n",
    "\n",
    "* `.run()` run circuit for randomly-generated gates\\\n",
    "    \n",
    "* `.ham()` generate full Hamiltonian composed using the local terms\\ \n",
    "    \n",
    "* `.Average_Case(samples)` evaluates the angle-average output\\\n",
    "    Input: [samples] -- the number of samples in averaging\n",
    "    Output: average density matrix\n",
    "\n",
    "* `.Optimized_Case(samples)`evaluates optimized circuit and output\\\n",
    "    Input: [samples] -- number of steps in the Metropolis optimization\\\n",
    "\n",
    "### Algorithm 1: Setup <a class=\"anchor\" id=\"a1_setup\"></a>"
   ]
  },
  {
   "cell_type": "code",
   "execution_count": 14,
   "metadata": {},
   "outputs": [],
   "source": [
    "import numpy as np\n",
    "from source.algorithms import algrthm_1\n",
    "from source.qstate2 import XX,YY,ZZ,Z\n",
    "\n",
    "# create the circuit\n",
    "circ = algrthm_1()\n",
    "\n",
    "# choose inverse temperatures\n",
    "beta_values = [0,0.5,1,1.5,2,2.5,3]\n",
    "\n",
    "# assign the Hamiltonian terms\n",
    "circ.terms = [1.0*XX,1.0*XX,1.0*YY,1.0*YY,1.0*ZZ,1.0*ZZ,-1.0*Z,-1.0*Z,-1.0*Z]\n",
    "\n",
    "# assign qubits for each term\n",
    "circ.qubits = [[0,1],[1,2],[0,1],[1,2],[0,1],[1,2],[0],[1],[2]]\n",
    "\n",
    "# assign respective ancillas for each term\n",
    "circ.ancilla = [3,4,3,4,3,4,3,4,4]\n",
    "        \n",
    "# set the circuit depth\n",
    "circ.depth = 20\n",
    "\n",
    "# generate hamiltonian\n",
    "circ.ham()"
   ]
  },
  {
   "cell_type": "markdown",
   "metadata": {},
   "source": [
    "### Algorithm 1: Average density matrices (noiseless circuit) <a class=\"anchor\" id=\"a1_avrg_noiseless\"></a>"
   ]
  },
  {
   "cell_type": "code",
   "execution_count": 15,
   "metadata": {},
   "outputs": [],
   "source": [
    "from source.storage_v2 import savedata\n",
    "\n",
    "# set gates error (for two- and three-qubit gates)\n",
    "circ.p2 = 0.0\n",
    "circ.p3 = 0.0\n",
    "\n",
    "# set this TRUE to re-evaluate\n",
    "evaluate = False\n",
    "\n",
    "# set this TRUE to overwrite the data\n",
    "save_data = True\n",
    "\n",
    "#----\n",
    "\n",
    "if evaluate:\n",
    "    \n",
    "    rho_avrg_noisy = np.empty(len(beta_values),np.ndarray)\n",
    "    for bi in range(1,len(beta_values)):     \n",
    "        circ.beta = beta_values[bi]\n",
    "        rho_avrg_noisy[bi] = circ.Average_Case(samples = 1000)\n",
    "    \n",
    "    if savedata:\n",
    "        savedata(rho_avrg_noisy,'data/simulations/algrthm1_noiseless')\n",
    "     "
   ]
  },
  {
   "cell_type": "markdown",
   "metadata": {},
   "source": [
    "### Algorithm 1: Average density matrices (noisy circuit) <a class=\"anchor\" id=\"a1_avrg_noisy\"></a>"
   ]
  },
  {
   "cell_type": "code",
   "execution_count": 16,
   "metadata": {},
   "outputs": [],
   "source": [
    "from source.storage_v2 import savedata\n",
    "\n",
    "# set gates error (for two- and three-qubit gates)\n",
    "circ.p2 = 0.01\n",
    "circ.p3 = 0.02\n",
    "\n",
    "# set this TRUE to re-evaluate\n",
    "evaluate = False\n",
    "\n",
    "# set this TRUE to overwrite the data\n",
    "save_data = True\n",
    "\n",
    "#----\n",
    "\n",
    "if evaluate:\n",
    "    \n",
    "    rho_avrg_noisy = np.empty(len(beta_values),np.ndarray)\n",
    "    for bi in range(1,len(beta_values)):\n",
    "        circ.beta = beta_values[bi]\n",
    "        rho_avrg_noisy[bi] = circ.Average_Case(samples = 1000)\n",
    "    \n",
    "    if savedata:\n",
    "        savedata(rho_avrg_noisy,'data/simulations/algrthm1_noisy')\n",
    "     "
   ]
  },
  {
   "cell_type": "markdown",
   "metadata": {},
   "source": [
    "### Algorithm 1: Optimized density matrices (noisy circuit)  <a class=\"anchor\" id=\"a1_optm\"></a>"
   ]
  },
  {
   "cell_type": "code",
   "execution_count": 17,
   "metadata": {},
   "outputs": [],
   "source": [
    "from source.storage_v2 import savedata\n",
    "\n",
    "# set gates error (for two- and three-qubit gates)\n",
    "circ.p2 = 0.01\n",
    "circ.p3 = 0.02\n",
    "\n",
    "# set this TRUE to re-evaluate\n",
    "evaluate = False\n",
    "\n",
    "# set this TRUE to overwrite the data\n",
    "save_data = True\n",
    "\n",
    "#---\n",
    "\n",
    "if evaluate:\n",
    "    \n",
    "    rho_optm = np.empty(len(beta_values),np.ndarray)\n",
    "    thetas_optm = np.empty(len(beta_values),np.ndarray)\n",
    "\n",
    "    for bi in range(1,len(beta_values)):\n",
    "        circ.beta = beta_values[bi]\n",
    "        circ.thetas = np.ones([circ.depth,len(circ.terms)])\n",
    "        rho_optm[bi] = circ.Optimized_Case(samples = 10000)\n",
    "        thetas_optm[bi] = circ.thetas.copy()\n",
    "        print()\n",
    "\n",
    "    if savedata:\n",
    "        savedata(rho_optm,'data/simulations/algrthm1_optimized')\n",
    "        "
   ]
  },
  {
   "cell_type": "markdown",
   "metadata": {},
   "source": [
    "### Algorithm 1: Generating plots  <a class=\"anchor\" id=\"a1_plots\"></a>"
   ]
  },
  {
   "cell_type": "code",
   "execution_count": 18,
   "metadata": {},
   "outputs": [
    {
     "data": {
      "image/png": "[encoded data removed]",
      "text/plain": [
       "<Figure size 468x223.2 with 2 Axes>"
      ]
     },
     "metadata": {
      "needs_background": "light"
     },
     "output_type": "display_data"
    }
   ],
   "source": [
    "import matplotlib.pyplot as plt\n",
    "from source.algorithms import processed_data\n",
    "\n",
    "fig,ax = plt.subplots(1,2,figsize = (6.5,3.1))\n",
    "\n",
    "# index for temperature array\n",
    "indx = 1\n",
    "pd = processed_data(circ.H,beta_values,indx,tp = 'algrthm1')\n",
    "\n",
    "ax[0].plot(pd.gibbs_distr[indx],ls=\"--\",c='k',label='exact')\n",
    "ax[0].plot(pd.n_noiseless,marker = 'o',ms=8.5,c='b',mfc='w',label='avrg noiseless')\n",
    "ax[0].plot(pd.n_noisy,marker = 'D',ms=7,c='g',mfc='w',label='avrg noisy')\n",
    "ax[0].plot(pd.n_optimized,marker = 's',ms=7.5,c='r',mfc='w',label='optm noisy')\n",
    "#------\n",
    "ax[0].legend()\n",
    "ax[0].set_ylabel('Overlap')\n",
    "ax[0].set_xlabel('No. of energy level')\n",
    "#------\n",
    "ax[1].plot(beta_values,pd.E_gibbs,ls=\"--\",c='k',label='exact')\n",
    "ax[1].plot(beta_values,pd.E_noiseless,marker = 'o',ms=8.5,c='b',mfc='w')\n",
    "ax[1].plot(beta_values,pd.E_noisy,marker = 'D',c='g',mfc='w',ms = 7)\n",
    "ax[1].plot(beta_values,pd.E_optimized,marker = 's',ms=7.5,c='r',mfc='w')\n",
    "ax[1].set_xlabel(r'Inv. temperature $\\beta$')\n",
    "ax[1].set_ylabel(r'Energy $E(\\beta)$')\n",
    "\n",
    "fig.tight_layout()\n",
    "\n",
    "# save the plot to figs/simulations\n",
    "plt.savefig(\"figs/simulations/fig1_top.svg\", dpi=400)\n",
    "\n",
    "plt.show()"
   ]
  },
  {
   "cell_type": "markdown",
   "metadata": {},
   "source": [
    "\n",
    "---\n",
    "\n",
    "## Algorithm 2  <a class=\"anchor\" id=\"part1.2\"></a>\n",
    "\n",
    "\n",
    "**Class:** `algrthm_2`\n",
    "\n",
    "Inputs:\n",
    "\n",
    "* `n` number of system qubits in Hamiltonian *(int)* \n",
    "* `na` number of ancilla qubits *(int)* \n",
    "\n",
    "Parameters:\n",
    "\n",
    "* `adj_matrix`  adjacency matrix reprenting ancilla-system couplings *((na $\\times$ n) float)*\n",
    "* `depth`  the effective circuit depth in terms of number of oracles *(int)* \n",
    "* `g`  error rate *(float)*\n",
    "* `gamma`  inverse sycle time in Poisson distribution  *(float)*\n",
    "* `lm`  interaction constant for first cycle *(float)*\n",
    "\n",
    "Methods:\n",
    "\n",
    "* `assign_hamiltonian(H)` inpust the Hamiltonian *((2^n $\\times$ 2^n) complex)*\n",
    "* `.Average_Case(samples)` evaluates the angle-average output\\\n",
    "    Input: samples -- the number of samples in averaging\n",
    "    Output: average density matrix\n",
    "\n",
    "* `.Optimized_Case(samples)`evaluates optimized circuit and output\\\n",
    "    Input: [samples] -- number of steps in the Metropolis optimization\\\n",
    "    Output: optimized circuit density matrix output\\\n",
    "    \n",
    "### Algorithm 2: Setup <a class=\"anchor\" id=\"a2_setup\"></a>"
   ]
  },
  {
   "cell_type": "code",
   "execution_count": 3,
   "metadata": {},
   "outputs": [],
   "source": [
    "import numpy as np\n",
    "from source.algorithms import algrthm_2\n",
    "#from source.qstate2 import I,X,Z\n",
    "from source.models import xxz_ham\n",
    "\n",
    "#--------------------------------------------------------------------\n",
    "# set the number of qubits and the number of ancillas\n",
    "n  = 3 # number of qubits\n",
    "na = 2 # number of ancillas\n",
    "\n",
    "#--------------------------------------------------------------------\n",
    "# create the circuit\n",
    "circ = algrthm_2(n,na)\n",
    "\n",
    "#--------------------------------------------------------------------\n",
    "# choose inverse temperature values\n",
    "beta_values = [0,0.5,1,1.5,2,2.5,3]\n",
    "\n",
    "#--------------------------------------------------------------------\n",
    "# setup the Hamiltonian\n",
    "Jxx = [1.0,1.0]\n",
    "Jyy = [1.0,1.0]\n",
    "Jzz = [1.0,1.0]\n",
    "hz  = [-1.0,-1.0,-1.0]\n",
    "H = xxz_ham(n,Jxx = Jxx,Jyy = Jyy,Jzz = Jzz,hz = hz)\n",
    "\n",
    "circ.assign_hamiltonian(H)\n",
    "\n",
    "#--------------------------------------------------------------------\n",
    "# setup the adjancy matrix between ancilla and system qubits\n",
    "circ.adj_matrix = np.zeros([na,n],int)\n",
    "circ.adj_matrix[0,0] = 1\n",
    "circ.adj_matrix[1,2] = 1\n",
    "\n",
    "#--------------------------------------------------------------------\n",
    "# setup depth (number of cycles)\n",
    "circ.depth = 100\n",
    "\n",
    "#--------------------------------------------------------------------\n",
    "# interaction constant lambda\n",
    "circ.lm = 0.1\n",
    "\n",
    "#--------------------------------------------------------------------\n",
    "# inverse cycle time (in Poisson distribution)\n",
    "circ.gamma = 0.1"
   ]
  },
  {
   "cell_type": "markdown",
   "metadata": {},
   "source": [
    "### Algorithm 2: Average density matrices (noiseless circuit) <a class=\"anchor\" id=\"a2_avrg_noiseless\"></a>"
   ]
  },
  {
   "cell_type": "code",
   "execution_count": 19,
   "metadata": {},
   "outputs": [],
   "source": [
    "from source.storage_v2 import savedata\n",
    "\n",
    "#--------------------------------------------------------------------\n",
    "# set this True to perform the computation \n",
    "\n",
    "evaluate = False\n",
    "\n",
    "#--------------------------------------------------------------------\n",
    "# set this to store/overwrite the data\n",
    "\n",
    "save_data = True\n",
    "\n",
    "#--------------------------------------------------------------------\n",
    "# set depolarizing noise\n",
    "\n",
    "circ.g = 0\n",
    "\n",
    "if evaluate:\n",
    "    \n",
    "    rho_avrg_noisy = np.empty(len(beta_values),np.ndarray)\n",
    "\n",
    "    for bi in range(1,len(beta_values)):\n",
    "        circ.beta = beta_values[bi]\n",
    "        rho_avrg_noisy[bi] = circ.Average_Case(samples = 1000)\n",
    "\n",
    "    if save_data:\n",
    "        savedata(rho_avrg_noisy,'data/simulations/algrthm2_noiseless')\n",
    "            "
   ]
  },
  {
   "cell_type": "markdown",
   "metadata": {},
   "source": [
    "### Algorithm 2: Average density matrices (noisy circuit) <a class=\"anchor\" id=\"a2_avrg_noisy\"></a>"
   ]
  },
  {
   "cell_type": "code",
   "execution_count": 20,
   "metadata": {},
   "outputs": [],
   "source": [
    "from source.storage_v2 import savedata\n",
    "\n",
    "#--------------------------------------------------------------------\n",
    "# set this True to perform the computation \n",
    "\n",
    "evaluate = False\n",
    "\n",
    "#--------------------------------------------------------------------\n",
    "# set this to store/overwrite the data\n",
    "\n",
    "save_data = True\n",
    "\n",
    "#--------------------------------------------------------------------\n",
    "# set depolarizing noise\n",
    "\n",
    "circ.g = 1e-3\n",
    "\n",
    "if evaluate:\n",
    "    \n",
    "    rho_avrg_noisy = np.empty(len(beta_values),np.ndarray)\n",
    "\n",
    "    for bi in range(1,len(beta_values)):\n",
    "        circ.beta = beta_values[bi]\n",
    "        rho_avrg_noisy[bi] = circ.Average_Case(samples = 1000)\n",
    "\n",
    "    if save_data:\n",
    "        savedata(rho_avrg_noisy,'data/simulations/algrthm2_noisy')\n",
    "            "
   ]
  },
  {
   "cell_type": "markdown",
   "metadata": {},
   "source": [
    "### Algorithm 2: Optimized density matrices (noisy circuit)  <a class=\"anchor\" id=\"a2_optm\"></a>"
   ]
  },
  {
   "cell_type": "code",
   "execution_count": 21,
   "metadata": {},
   "outputs": [],
   "source": [
    "from source.storage_v2 import savedata\n",
    "\n",
    "#--------------------------------------------------------------------\n",
    "# set this True to perform the computation \n",
    "\n",
    "evaluate = False\n",
    "\n",
    "#--------------------------------------------------------------------\n",
    "# set this to store/overwrite the data\n",
    "\n",
    "save_data = True\n",
    "\n",
    "#--------------------------------------------------------------------\n",
    "# set depolarizing noise\n",
    "\n",
    "circ.g = 1e-3\n",
    "\n",
    "if evaluate:\n",
    "    \n",
    "    rho_optm = np.empty(len(beta_values),np.ndarray)\n",
    "    beta_optm = np.empty(len(beta_values),np.ndarray)\n",
    "    omegas_optm = np.empty(len(beta_values),np.ndarray)\n",
    "    X_coupling_optm = np.empty(len(beta_values),np.ndarray)\n",
    "    Z_coupling_optm = np.empty(len(beta_values),np.ndarray)\n",
    "    time_schedule_optm = np.empty(len(beta_values),np.ndarray)\n",
    "\n",
    "    for bi in range(1,len(beta_values)):\n",
    "\n",
    "        #print(r'Computing beta = '+str(beta_values[bi]))\n",
    "        circ.beta = beta_values[bi]\n",
    "        circ.set_random_schedule()\n",
    "        circ.Optimized_Case(samples = 10000) \n",
    "\n",
    "        rho_optm[bi] = circ.state\n",
    "    \n",
    "    if save_data:\n",
    "        savedata(rho_optm,'data/simulations/algrthm2_optimized')\n",
    "        "
   ]
  },
  {
   "cell_type": "markdown",
   "metadata": {},
   "source": [
    "### Algorithm 2: Generating plots  <a class=\"anchor\" id=\"a2_plots\"></a>"
   ]
  },
  {
   "cell_type": "code",
   "execution_count": 23,
   "metadata": {},
   "outputs": [
    {
     "data": {
      "image/png": "[encoded data removed]",
      "text/plain": [
       "<Figure size 468x223.2 with 2 Axes>"
      ]
     },
     "metadata": {
      "needs_background": "light"
     },
     "output_type": "display_data"
    }
   ],
   "source": [
    "import matplotlib.pyplot as plt\n",
    "from source.algorithms import processed_data\n",
    "\n",
    "fig,ax = plt.subplots(1,2,figsize = (6.5,3.1))\n",
    "\n",
    "# index for temperature array\n",
    "indx = 1\n",
    "pd = processed_data(circ.H,beta_values,indx,tp = 'algrthm2')\n",
    "\n",
    "ax[0].plot(pd.gibbs_distr[indx],ls=\"--\",c='k',label='exact')\n",
    "ax[0].plot(pd.n_noiseless,marker = 'o',ms=8.5,c='b',mfc='w',label='avrg noiseless')\n",
    "ax[0].plot(pd.n_noisy,marker = 'D',ms=7,c='g',mfc='w',label='avrg noisy')\n",
    "ax[0].plot(pd.n_optimized,marker = 's',ms=7.5,c='r',mfc='w',label='optm noisy')\n",
    "#------\n",
    "ax[0].legend()\n",
    "ax[0].set_ylabel('Overlap')\n",
    "ax[0].set_xlabel('No. of energy level')\n",
    "#------\n",
    "ax[1].plot(beta_values,pd.E_gibbs,ls=\"--\",c='k',label='exact')\n",
    "ax[1].plot(beta_values,pd.E_noiseless,marker = 'o',ms=8.5,c='b',mfc='w')\n",
    "ax[1].plot(beta_values,pd.E_noisy,marker = 'D',c='g',mfc='w',ms = 7)\n",
    "ax[1].plot(beta_values,pd.E_optimized,marker = 's',ms=7.5,c='r',mfc='w')\n",
    "ax[1].set_xlabel(r'Inv. temperature $\\beta$')\n",
    "ax[1].set_ylabel(r'Energy $E(\\beta)$')\n",
    "\n",
    "fig.tight_layout()\n",
    "\n",
    "# save the plot to figs/simulations\n",
    "plt.savefig(\"figs/simulations/fig2_bottom.svg\", dpi=400)\n",
    "\n",
    "plt.show()"
   ]
  },
  {
   "cell_type": "markdown",
   "metadata": {},
   "source": [
    "## Section 2: Experiment on IBMQ hardware <a class=\"anchor\" id=\"part2\"></a>\n",
    "\n",
    "\n",
    "### Setting account: <a class=\"anchor\" id=\"part2.1\"></a> "
   ]
  },
  {
   "cell_type": "code",
   "execution_count": 10,
   "metadata": {},
   "outputs": [
    {
     "name": "stdout",
     "output_type": "stream",
     "text": [
      "Enter your API key: ········\n"
     ]
    },
    {
     "data": {
      "text/plain": [
       "<AccountProvider for IBMQ(hub='ibm-q', group='open', project='main')>"
      ]
     },
     "execution_count": 10,
     "metadata": {},
     "output_type": "execute_result"
    }
   ],
   "source": [
    "from qiskit import IBMQ\n",
    "import getpass\n",
    "\n",
    "api_key = getpass.getpass('Enter your API key: ')\n",
    "IBMQ.save_account(api_key,overwrite=True)\n",
    "IBMQ.load_account()"
   ]
  },
  {
   "cell_type": "markdown",
   "metadata": {},
   "source": [
    "### Qiskit Algorithm 1 <a class=\"anchor\" id=\"part2.2\"></a>\n",
    "\n",
    "Here we study 1D Heisenberg Hamiltonian\n",
    "\n",
    "$H = J\\sum_{i=1}^{N-1}(X_iX_{i+1}+Y_iY_{i+1}+Z_iZ_{i+1})+\\mu\\sum_{i=1}^NZ_i$\n",
    "\n",
    "where $X_i$ and $Z_i$ are Pauli matrices acting on corresponding qubits. We divide it using local terms $\\{JX_1X_2,\\mu_1Z_1,\\mu_2Z_2,h_1X_1,h_2X_2\\}$. \n",
    "\n",
    "\n",
    "\n",
    "### Qiskit Algorithm 1: Setup  <a class=\"anchor\" id=\"qa1_setup\"></a>"
   ]
  },
  {
   "cell_type": "code",
   "execution_count": 5,
   "metadata": {},
   "outputs": [],
   "source": [
    "import numpy as np\n",
    "from qiskit import IBMQ\n",
    "from source.algorithms import qiskit_algrthm1\n",
    "from source.qstate2 import I,X,Z\n",
    "\n",
    "# create experimental circuit object\n",
    "circ = qiskit_algrthm1()\n",
    "\n",
    "# setting system and ancilla qubits\n",
    "circ.sys_qubits = [1,3]\n",
    "circ.ancillas = [0,2,4]\n",
    "circ.layout = [0,1,3,5,6]\n",
    "\n",
    "# set the terms\n",
    "#circ.terms = ['xx','yy','zz','z','z']\n",
    "circ.terms = ['xx','z','z']\n",
    "\n",
    "# set corresponding coefficients\n",
    "#circ.coefs = [1,1,1,-1.0,-1.0]\n",
    "circ.coefs = [1,-1.0,-1.0]\n",
    "\n",
    "# set the qubits for each term\n",
    "#circ.subj_qubits = [[1,3],[1,3],[1,3],[1],[3]]\n",
    "circ.subj_qubits = [[1,3],[1],[3]]\n",
    "\n",
    "# set the ancilla for each term, consider connectivity\n",
    "circ.subj_ancilla = [0,4,2]\n",
    "\n",
    "# inverse temperature\n",
    "circ.beta = 1\n",
    "\n",
    "# circuit depth\n",
    "circ.depth = 5\n",
    "\n",
    "# number of (randomly generated) circuits\n",
    "circ.circuits = 100\n",
    "\n",
    "# number of measurement shots per circuit\n",
    "circ.shots = 8192\n",
    "\n",
    "circ.ham()"
   ]
  },
  {
   "cell_type": "markdown",
   "metadata": {},
   "source": [
    "### Qiskit Algorithm 1: Running experiment <a class=\"anchor\" id=\"qa1_running_exp\"></a>"
   ]
  },
  {
   "cell_type": "code",
   "execution_count": 5,
   "metadata": {
    "scrolled": true
   },
   "outputs": [
    {
     "name": "stderr",
     "output_type": "stream",
     "text": [
      "ibmqfactory.load_account:WARNING:2021-12-28 15:05:16,076: Credentials are already in use. The existing account in the session will be replaced.\n"
     ]
    },
    {
     "name": "stdout",
     "output_type": "stream",
     "text": [
      "Job Status: job has successfully run\n",
      "Saved!\n"
     ]
    }
   ],
   "source": [
    "# ----------------------------------\n",
    "# Run the simulation/experiment\n",
    "#-----------------------------------\n",
    "\n",
    "#--------------------------------------------------------------------\n",
    "# set this True to perform the computation \n",
    "\n",
    "evaluate = False\n",
    "\n",
    "#--------------------------------------------------------------------\n",
    "# set this to store/overwrite the data\n",
    "\n",
    "save_data = True\n",
    "\n",
    "if evaluate:\n",
    "    \n",
    "    # load your account\n",
    "    IBMQ.load_account()\n",
    "\n",
    "    # setting device\n",
    "    circ.provider = IBMQ.get_provider(hub='ibm-q-internal', group='deployed', project='default')\n",
    "    circ.device = 'ibmq_casablanca'\n",
    "\n",
    "    # choose simulation ('simulator') or actual IBMQ device ('device')\n",
    "    circ.run_type = 'device'\n",
    "\n",
    "    # if using simulator, you can add simulated noise from the device\n",
    "    circ.noise = True\n",
    "\n",
    "    circ.update_thetas()\n",
    "\n",
    "    circ.run()\n",
    "\n",
    "    # ----------------------------------\n",
    "    # Save the data\n",
    "    #-----------------------------------\n",
    "    \n",
    "    if save_data = True:\n",
    "        \n",
    "        filename = 'data/qiskit/algorithm1.npy'\n",
    "        data_container = {'X data':circ.samples_x,'Z data':circ.samples_z}\n",
    "        np.save(filename,data_container) \n",
    "        print('Saved!')"
   ]
  },
  {
   "cell_type": "markdown",
   "metadata": {},
   "source": [
    "### Qiskit Algorithm 1: Generating Plot  <a class=\"anchor\" id=\"qa1_plot\"></a>"
   ]
  },
  {
   "cell_type": "code",
   "execution_count": 7,
   "metadata": {},
   "outputs": [
    {
     "data": {
      "image/png": "[encoded data removed]",
      "text/plain": [
       "<Figure size 216x216 with 1 Axes>"
      ]
     },
     "metadata": {
      "needs_background": "light"
     },
     "output_type": "display_data"
    }
   ],
   "source": [
    "import sys\n",
    "from itertools import product\n",
    "import matplotlib.pyplot as plt\n",
    "\n",
    "filename = 'data/qiskit/algorithm1.npy'\n",
    "data_container = np.load(filename,allow_pickle=True).tolist() \n",
    "samples_x = data_container['X data']\n",
    "samples_z = data_container['Z data']\n",
    "\n",
    "circ.n = len(circ.sys_qubits)\n",
    "circ.na = len(circ.ancillas)\n",
    "\n",
    "n = circ.n\n",
    "#----------------------------------------------------------------\n",
    "# clalculation of sampling probabilities for output state -- average\n",
    "#----------------------------------------------------------------\n",
    "\n",
    "# finding sampling size\n",
    "size = int(len(samples_z)/circ.n)\n",
    "\n",
    "# define index of each output state\n",
    "indx = np.zeros(size,int)\n",
    "for i in range(n):\n",
    "    indx += samples_z[i::n]*2**i\n",
    "\n",
    "#finding output sampling probabilities counting indices\n",
    "out_samp_prob = np.zeros(2**n)\n",
    "out_samp_prob_err = np.zeros(2**n)\n",
    "for j in range(2**n):\n",
    "    out_samp_prob[j] = np.count_nonzero(indx==j)/size\n",
    "    out_samp_prob_err[j] = np.sqrt(out_samp_prob[j])\\\n",
    "                            *(1-out_samp_prob[j])*(1/np.sqrt(circ.circuits)+1/np.sqrt(circ.shots))\n",
    "    \n",
    "#----------------------------------------------------------------\n",
    "# clalculation of sampling probabilities for Gibbs distribution\n",
    "#----------------------------------------------------------------\n",
    "\n",
    "# generatiion of Hamiltonian\n",
    "H = circ.H\n",
    "\n",
    "# generatiion of Hamiltonian\n",
    "E,Q = np.linalg.eigh(H)\n",
    "\n",
    "# finding Gibbs distribution (in eigenbasis)\n",
    "gibbs_distr = np.exp(-circ.beta*E)/np.sum(np.exp(-circ.beta*E))\n",
    "\n",
    "# finding sampling probabilities in Z-basis\n",
    "gibbs_samp_prob = np.diag(np.dot(Q,np.dot(np.diag(gibbs_distr),Q.T.conj()))).real\n",
    "\n",
    "#-----------------------------------------------------------\n",
    "# plotting\n",
    "#-----------------------------------------------------------\n",
    "\n",
    "fig,ax = plt.subplots(figsize = (3,3))\n",
    "\n",
    "# assingment of bar heights such that they plave next to each other\n",
    "red_bars_positions  = np.arange(3*2**n-1)[::3] \n",
    "blue_bars_positions = np.arange(3*2**n-1)[1::3]\n",
    "\n",
    "# making bar plot\n",
    "ax.bar(blue_bars_positions,gibbs_samp_prob,label='theory')\n",
    "ax.bar(red_bars_positions,out_samp_prob,yerr = out_samp_prob_err,capsize=4.0,label='experiment')\n",
    "\n",
    "# generating state labels\n",
    "labels = []\n",
    "label_list = list(product('01', repeat = n))\n",
    "for k in label_list:\n",
    "    labels.append('|'+''.join(k)+r'$\\rangle$')\n",
    "\n",
    "#setting plot\n",
    "ax.set_xticks(3*np.arange(2**n)+0.5)\n",
    "ax.set_xticklabels(labels)\n",
    "ax.set_ylabel('Probability')\n",
    "ax.legend()\n",
    "\n",
    "plt.savefig('figs/qiskit/algorithm1.svg',dpi=350)\n",
    "plt.show()"
   ]
  },
  {
   "cell_type": "markdown",
   "metadata": {},
   "source": [
    "Let us now extract the internal energy of the prepared state and compare it to the theoretical value predicted by the Gibbs distribution."
   ]
  },
  {
   "cell_type": "markdown",
   "metadata": {},
   "source": [
    "### Qiskit Algorithm 2 <a class=\"anchor\" id=\"part2.3\"></a>\n"
   ]
  },
  {
   "cell_type": "code",
   "execution_count": 8,
   "metadata": {},
   "outputs": [],
   "source": [
    "import numpy as np\n",
    "from qiskit import IBMQ\n",
    "from source.algorithms import qiskit_algrthm2\n",
    "from source.qstate2 import I,X,Z\n",
    "\n",
    "n  = 1 # number of qubits\n",
    "na = 1 # number of ancillas\n",
    "\n",
    "# initiate empty circuit\n",
    "circ = qiskit_algrthm2(n,na)\n",
    "\n",
    "# =========== Setting IBMQ device ============\n",
    "\n",
    "\n",
    "# list of device's qubits that serve as system qubits (see Fig.)\n",
    "circ.sys_qubits = [0]\n",
    "# list of device's qubits that serve as ancillas\n",
    "circ.ancillas = [1]\n",
    "# setting adjacency matrix between system qubits and ancillas\n",
    "circ.adj_matrix = np.zeros([na,n],int)\n",
    "circ.adj_matrix[0,0] = 1\n",
    "\n",
    "# =========== Setting system parameters ============\n",
    "\n",
    "# desired Hamiltonian\n",
    "circ.H = 1.0*Z\n",
    "\n",
    "# inverse temperature\n",
    "circ.beta  = 1\n",
    "\n",
    "# depth (number of oracles)\n",
    "circ.depth = 5\n",
    "\n",
    "# average inverse oracle time\n",
    "circ.gamma = 0.1\n",
    "\n",
    "circ.lm0 = 0.1\n",
    "circ.T0 = 100\n",
    "\n",
    "circ.set_L_schedule(tp = 'linear')\n",
    "circ.set_T_schedule(tp = 'const')\n",
    "circ.set_V_schedule()"
   ]
  },
  {
   "cell_type": "markdown",
   "metadata": {},
   "source": [
    "### Qiskit Algorithm 2: Running experiment <a class=\"anchor\" id=\"qa2_running_exp\"></a>"
   ]
  },
  {
   "cell_type": "code",
   "execution_count": 3,
   "metadata": {},
   "outputs": [
    {
     "name": "stderr",
     "output_type": "stream",
     "text": [
      "ibmqfactory.load_account:WARNING:2021-12-28 18:43:03,423: Credentials are already in use. The existing account in the session will be replaced.\n"
     ]
    }
   ],
   "source": [
    "#--------------------------------------------------------------------\n",
    "# set this True to perform the computation \n",
    "\n",
    "evaluate = False\n",
    "\n",
    "#--------------------------------------------------------------------\n",
    "# set this to store/overwrite the data\n",
    "\n",
    "save_data = True\n",
    "\n",
    "if evaluate:\n",
    "    \n",
    "    # load your account\n",
    "    IBMQ.load_account()\n",
    "\n",
    "    # choose available provider\n",
    "    circ.provider = IBMQ.get_provider(hub='ibm-q-internal', group='deployed', project='default')\n",
    "\n",
    "    # choose simulation ('simulator') or actual IBMQ device ('device')\n",
    "    circ.run_type = 'device'\n",
    "\n",
    "    # choose device\n",
    "    circ.device = 'ibmq_casablanca'\n",
    "\n",
    "    # if using simulator, this option adds simulated noise\n",
    "    circ.noise = True\n",
    "\n",
    "    # number of (randomly generated) circuits\n",
    "    circ.circuits = 150\n",
    "\n",
    "    # number of measurement shots per circuit\n",
    "    circ.shots = 8192\n",
    "\n",
    "    circ.run()\n",
    "\n",
    "    if save_data = True:\n",
    "        \n",
    "        filename = 'data/qiskit/algorithm2.npy'\n",
    "        data_container = {'X data':circ.samples_x,'Z data':circ.samples_z}\n",
    "        np.save(filename,data_container) \n",
    "        print('Saved!')"
   ]
  },
  {
   "cell_type": "markdown",
   "metadata": {},
   "source": [
    "### Qiskit Algorithm 2: Generating Plot  <a class=\"anchor\" id=\"qa2_plot\"></a>"
   ]
  },
  {
   "cell_type": "code",
   "execution_count": 9,
   "metadata": {},
   "outputs": [
    {
     "data": {
      "image/png": "[encoded data removed]",
      "text/plain": [
       "<Figure size 216x216 with 1 Axes>"
      ]
     },
     "metadata": {
      "needs_background": "light"
     },
     "output_type": "display_data"
    }
   ],
   "source": [
    "import sys\n",
    "from itertools import product\n",
    "import matplotlib.pyplot as plt\n",
    "\n",
    "filename = 'data/qiskit/algorithm2.npy'\n",
    "data_container = np.load(filename,allow_pickle=True).tolist() \n",
    "samples_x = 1-data_container['X data']\n",
    "samples_z = 1-data_container['Z data']\n",
    "\n",
    "#----------------------------------------------------------------\n",
    "# clalculation of sampling probabilities for output state\n",
    "#----------------------------------------------------------------\n",
    "\n",
    "# finding sampling size\n",
    "size = int(len(samples_z)/n)\n",
    "\n",
    "# define index of each output state\n",
    "indx = np.zeros(size,int)\n",
    "if n==1:\n",
    "    indx = samples_z\n",
    "if n>1:\n",
    "    for i in range(n):\n",
    "        indx += samples_z[i::n]*2**i\n",
    "\n",
    "#finding output sampling probabilities counting indices\n",
    "out_samp_prob = np.zeros(2**n)\n",
    "out_samp_prob_err = np.zeros(2**n)\n",
    "for j in range(2**n):\n",
    "    out_samp_prob[j] = np.count_nonzero(indx==j)/size\n",
    "    out_samp_prob_err[j] = np.sqrt(out_samp_prob[j])\\\n",
    "                            *(1-out_samp_prob[j])*(1/np.sqrt(circ.circuits)+1/np.sqrt(circ.shots))\n",
    "    \n",
    "#----------------------------------------------------------------\n",
    "# clalculation of sampling probabilities for Gibbs distribution\n",
    "#----------------------------------------------------------------\n",
    "\n",
    "# generatiion of Hamiltonian\n",
    "E,Q = np.linalg.eigh(circ.H)\n",
    "\n",
    "# finding Gibbs distribution (in eigenbasis)\n",
    "gibbs_distr = np.exp(-circ.beta*E)/np.sum(np.exp(-circ.beta*E))\n",
    "\n",
    "# finding sampling probabilities in Z-basis\n",
    "gibbs_samp_prob = np.diag(np.dot(Q,np.dot(np.diag(gibbs_distr),Q.T.conj()))).real\n",
    "\n",
    "#-----------------------------------------------------------\n",
    "# plotting\n",
    "#-----------------------------------------------------------\n",
    "\n",
    "fig,ax = plt.subplots(figsize = (3,3))\n",
    "\n",
    "# assingment of bar heights such that they plave next to each other\n",
    "red_bars_positions  = np.arange(3*2**n-1)[1::3] \n",
    "blue_bars_positions = np.arange(3*2**n-1)[::3]\n",
    "\n",
    "# making bar plot\n",
    "ax.bar(blue_bars_positions,gibbs_samp_prob,label='Gibbs state')\n",
    "ax.bar(red_bars_positions,out_samp_prob,yerr = out_samp_prob_err,capsize=4.0,label='Output state')\n",
    "\n",
    "# generating state labels\n",
    "labels = []\n",
    "label_list = list(product('01', repeat = n))\n",
    "for k in label_list:\n",
    "    labels.append('|'+''.join(k)+r'$\\rangle$')\n",
    "\n",
    "#setting plot\n",
    "ax.set_xticks(3*np.arange(2**n)+0.5)\n",
    "ax.set_xticklabels(labels)\n",
    "ax.set_ylabel('Probability')\n",
    "ax.legend()\n",
    "\n",
    "plt.savefig('figs/qiskit/algorithm2.svg',dpi=350)\n",
    "plt.show()"
   ]
  }
 ],
 "metadata": {
  "kernelspec": {
   "display_name": "Python 3",
   "language": "python",
   "name": "python3"
  },
  "language_info": {
   "codemirror_mode": {
    "name": "ipython",
    "version": 3
   },
   "file_extension": ".py",
   "mimetype": "text/x-python",
   "name": "python",
   "nbconvert_exporter": "python",
   "pygments_lexer": "ipython3",
   "version": "3.8.8"
  }
 },
 "nbformat": 4,
 "nbformat_minor": 4
}
